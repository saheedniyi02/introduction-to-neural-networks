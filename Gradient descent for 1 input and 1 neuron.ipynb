{
 "cells": [
  {
   "cell_type": "code",
   "execution_count": 48,
   "metadata": {},
   "outputs": [],
   "source": [
    "import numpy as np"
   ]
  },
  {
   "cell_type": "code",
   "execution_count": 49,
   "metadata": {},
   "outputs": [],
   "source": [
    "weight=0.5\n",
    "def neural_network(input,weight):\n",
    "    pred=input*weight\n",
    "    return pred"
   ]
  },
  {
   "cell_type": "code",
   "execution_count": 50,
   "metadata": {},
   "outputs": [],
   "source": [
    "input=0.5\n",
    "goal=0.8"
   ]
  },
  {
   "cell_type": "code",
   "execution_count": 51,
   "metadata": {
    "scrolled": true
   },
   "outputs": [
    {
     "name": "stdout",
     "output_type": "stream",
     "text": [
      "error : 0.30250000000000005 predicted: 0.25\n",
      "error : 0.17015625000000004 predicted: 0.3875\n",
      "error : 0.095712890625 predicted: 0.49062500000000003\n",
      "error : 0.05383850097656251 predicted: 0.56796875\n",
      "error : 0.03028415679931642 predicted: 0.6259765625\n",
      "error : 0.0170348381996155 predicted: 0.669482421875\n",
      "error : 0.00958209648728372 predicted: 0.70211181640625\n",
      "error : 0.005389929274097089 predicted: 0.7265838623046875\n",
      "error : 0.0030318352166796153 predicted: 0.7449378967285156\n",
      "error : 0.0017054073093822882 predicted: 0.7587034225463867\n",
      "error : 0.0009592916115275371 predicted: 0.76902756690979\n",
      "error : 0.0005396015314842384 predicted: 0.7767706751823426\n",
      "error : 0.000303525861459885 predicted: 0.7825780063867569\n",
      "error : 0.00017073329707118678 predicted: 0.7869335047900676\n",
      "error : 9.603747960254256e-05 predicted: 0.7902001285925507\n",
      "error : 5.402108227642978e-05 predicted: 0.7926500964444131\n",
      "error : 3.038685878049206e-05 predicted: 0.7944875723333098\n",
      "error : 1.7092608064027242e-05 predicted: 0.7958656792499823\n",
      "error : 9.614592036015323e-06 predicted: 0.7968992594374867\n",
      "error : 5.408208020258491e-06 predicted: 0.7976744445781151\n"
     ]
    }
   ],
   "source": [
    "for i in range(20):\n",
    "    pred=neural_network(input,weight)\n",
    "    error=(pred-goal)**2\n",
    "    delta=pred-goal\n",
    "    weight_delta=delta*input\n",
    "    weight-=weight_delta\n",
    "    print(\"error : \"+str(error)+\" predicted: \"+str(pred))"
   ]
  },
  {
   "cell_type": "markdown",
   "metadata": {},
   "source": [
    "# Trying a larger input"
   ]
  },
  {
   "cell_type": "code",
   "execution_count": 52,
   "metadata": {},
   "outputs": [],
   "source": [
    "input=2\n",
    "goal=0.8"
   ]
  },
  {
   "cell_type": "code",
   "execution_count": 53,
   "metadata": {
    "scrolled": true
   },
   "outputs": [
    {
     "name": "stdout",
     "output_type": "stream",
     "text": [
      "error : 5.726560675797041 predicted: 3.193023333734345\n",
      "error : 51.539046082173364 predicted: -6.379070001203036\n",
      "error : 463.8514147395602 predicted: 22.33721000360911\n",
      "error : 4174.662732656043 predicted: -63.81163001082732\n",
      "error : 37571.964593904384 predicted: 194.634890032482\n",
      "error : 338147.6813451394 predicted: -580.704670097446\n",
      "error : 3043329.1321062543 predicted: 1745.3140102923376\n",
      "error : 27389962.188956287 predicted: -5232.742030877012\n",
      "error : 246509659.7006066 predicted: 15701.426092631038\n",
      "error : 2218586937.30546 predicted: -47101.07827789312\n",
      "error : 19967282435.749138 predicted: 141306.43483367935\n",
      "error : 179705541921.74225 predicted: -423916.1045010381\n",
      "error : 1617349877295.68 predicted: 1271751.5135031142\n",
      "error : 14556148895661.12 predicted: -3815251.3405093425\n",
      "error : 131005340060950.05 predicted: 11445757.221528027\n",
      "error : 1179048060548550.5 predicted: -34337268.46458408\n",
      "error : 1.0611432544936954e+16 predicted: 103011808.59375224\n",
      "error : 9.550289290443262e+16 predicted: -309035422.58125675\n",
      "error : 8.595260361398936e+17 predicted: 927106270.9437703\n",
      "error : 7.735734325259044e+18 predicted: -2781318809.631311\n"
     ]
    }
   ],
   "source": [
    "for i in range(20):\n",
    "    pred=neural_network(input,weight)\n",
    "    error=(pred-goal)**2\n",
    "    delta=pred-goal\n",
    "    weight_delta=delta*input\n",
    "    weight-=weight_delta\n",
    "    print(\"error : \"+str(error)+\" predicted: \" +str(pred))"
   ]
  },
  {
   "cell_type": "markdown",
   "metadata": {},
   "source": [
    "# adding alpha to prevent divergence caused by adding a larger value"
   ]
  },
  {
   "cell_type": "code",
   "execution_count": 54,
   "metadata": {
    "scrolled": true
   },
   "outputs": [
    {
     "name": "stdout",
     "output_type": "stream",
     "text": [
      "error : 6.9621608927331385e+19 pred 8343956432.093933\n",
      "error : 2.50637792138393e+19 pred 5006373859.57636\n",
      "error : 9.022960516982147e+18 pred 3003824316.065816\n",
      "error : 3.2482657861135734e+18 pred 1802294589.9594896\n",
      "error : 1.1693756830008863e+18 pred 1081376754.2956936\n",
      "error : 4.20975245880319e+17 pred 648826052.8974161\n",
      "error : 1.5155108851691478e+17 pred 389295632.0584496\n",
      "error : 5.455839186608931e+16 pred 233577379.55506977\n",
      "error : 1.9641021071792156e+16 pred 140146428.05304188\n",
      "error : 7070767585845178.0 pred 84087857.15182513\n",
      "error : 2545476330904264.5 pred 50452714.61109508\n",
      "error : 916371479125534.8 pred 30271629.086657044\n",
      "error : 329893732485192.5 pred 18162977.771994226\n",
      "error : 118761743694669.27 pred 10897786.983196534\n",
      "error : 42754227730080.945 pred 6538672.50991792\n",
      "error : 15391521982829.139 pred 3923203.825950752\n",
      "error : 5540947913818.49 pred 2353922.615570451\n",
      "error : 1994741248974.6555 pred 1412353.8893422706\n",
      "error : 718106849630.8759 pred 847412.6536053623\n",
      "error : 258518465867.11536 pred 508447.9121632174\n",
      "error : 93066647712.16153 pred 305069.0672979304\n",
      "error : 33503993176.37815 pred 183041.76037875825\n",
      "error : 12061437543.49613 pred 109825.37622725494\n",
      "error : 4342117515.658606 pred 65895.54573635296\n",
      "error : 1563162305.6370978 pred 39537.64744181177\n",
      "error : 562738430.0293554 pred 23722.908465087065\n",
      "error : 202585834.81056792 pred 14234.065079052238\n",
      "error : 72930900.53180444 pred 8540.759047431342\n",
      "error : 26255124.191449586 pred 5124.7754284588045\n",
      "error : 9451844.70892185 pred 3075.1852570752826\n",
      "error : 3402664.095211867 pred 1845.4311542451696\n",
      "error : 1224959.0742762717 pred 1107.5786925471016\n",
      "error : 440985.26673945773 pred 664.8672155282609\n",
      "error : 158754.69602620474 pred 399.2403293169565\n",
      "error : 57151.6905694337 pred 239.8641975901739\n",
      "error : 20574.60860499613 pred 144.23851855410433\n",
      "error : 7406.859097798607 pred 86.86311113246259\n",
      "error : 2666.4692752074984 pred 52.43786667947755\n",
      "error : 959.9289390746991 pred 31.782720007686528\n",
      "error : 345.5744180668917 pred 19.38963200461192\n",
      "error : 124.40679050408102 pred 11.953779202767151\n",
      "error : 44.786444581469176 pred 7.492267521660291\n",
      "error : 16.123120049328904 pred 4.8153605129961745\n",
      "error : 5.804323217758403 pred 3.2092163077977043\n",
      "error : 2.089556358393024 pred 2.2455297846786224\n",
      "error : 0.7522402890214887 pred 1.6673178708071734\n",
      "error : 0.270806504047736 pred 1.3203907224843041\n",
      "error : 0.09749034145718495 pred 1.1122344334905825\n",
      "error : 0.03509652292458658 pred 0.9873406600943495\n",
      "error : 0.01263474825285117 pred 0.9124043960566097\n",
      "error : 0.004548509371026427 pred 0.8674426376339659\n",
      "error : 0.0016374633735695102 pred 0.8404655825803795\n",
      "error : 0.0005894868144850215 pred 0.8242793495482277\n",
      "error : 0.00021221525321460708 pred 0.8145676097289366\n",
      "error : 7.639749115725855e-05 pred 0.808740565837362\n",
      "error : 2.7503096816613545e-05 pred 0.8052443395024173\n",
      "error : 9.901114853981156e-06 pred 0.8031466037014504\n",
      "error : 3.564401347433048e-06 pred 0.8018879622208702\n",
      "error : 1.283184485075998e-06 pred 0.8011327773325222\n",
      "error : 4.6194641462741964e-07 pred 0.8006796663995134\n",
      "error : 1.6630070926583486e-07 pred 0.800407799839708\n",
      "error : 5.986825533572228e-08 pred 0.8002446799038249\n",
      "error : 2.155257192087306e-08 pred 0.800146807942295\n",
      "error : 7.758925891506478e-09 pred 0.800088084765377\n",
      "error : 2.793213320939985e-09 pred 0.8000528508592262\n",
      "error : 1.0055567955355782e-09 pred 0.8000317105155357\n",
      "error : 3.620004463928081e-10 pred 0.8000190263093214\n",
      "error : 1.3032016070141094e-10 pred 0.8000114157855929\n",
      "error : 4.691525785189958e-11 pred 0.8000068494713557\n",
      "error : 1.688949282668385e-11 pred 0.8000041096828134\n"
     ]
    }
   ],
   "source": [
    "for i in range(70):\n",
    "    alpha=0.1\n",
    "    pred=neural_network(input,weight)\n",
    "    error=(pred-goal)**2\n",
    "    delta=pred-goal\n",
    "    weight_delta=delta*input\n",
    "    weight-=weight_delta*alpha\n",
    "    print(\"error : \"+str(error)+\" pred \"+str(pred))"
   ]
  }
 ],
 "metadata": {
  "kernelspec": {
   "display_name": "Python 3",
   "language": "python",
   "name": "python3"
  },
  "language_info": {
   "codemirror_mode": {
    "name": "ipython",
    "version": 3
   },
   "file_extension": ".py",
   "mimetype": "text/x-python",
   "name": "python",
   "nbconvert_exporter": "python",
   "pygments_lexer": "ipython3",
   "version": "3.7.2"
  }
 },
 "nbformat": 4,
 "nbformat_minor": 4
}
